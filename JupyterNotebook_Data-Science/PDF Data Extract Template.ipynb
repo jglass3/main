{
 "cells": [
  {
   "cell_type": "code",
   "execution_count": 7,
   "id": "a8d73261",
   "metadata": {},
   "outputs": [],
   "source": [
    "import PyPDF2\n",
    "pdfFileObj = open('Invoice 1000025921.pdf', 'rb')\n",
    "\n",
    "#create reader variable that will read the pdffileobj\n",
    "pdfreader=PyPDF2.PdfFileReader(pdfFileObj, strict=False)\n",
    " \n",
    "#This will store the number of pages of this pdf file\n",
    "x=pdfreader.numPages\n",
    " \n",
    "#create a variable that will select the selected number of pages\n",
    "pageobj=pdfreader.getPage(x-1)\n",
    " \n",
    "#(x+1) because python indentation starts with 0.\n",
    "#create text variable which will store all text datafrom pdf file\n",
    "text=pageobj.extractText()\n",
    " \n",
    "#save the extracted data from pdf to a txt file\n",
    "#we will use file handling here\n",
    "#dont forget to put r before you put the file path\n",
    "#go to the file location copy the path by right clicking on the file\n",
    "#click properties and copy the location path and paste it here.\n",
    "#put \"\\\\your_txtfilename\"\n",
    "file1=open(r\"C:\\Users\\t8367j1\\Downloads\\pdfExtract.txt\",\"a\")\n",
    "file1.writelines(text)\n"
   ]
  }
 ],
 "metadata": {
  "kernelspec": {
   "display_name": "Python 3 (ipykernel)",
   "language": "python",
   "name": "python3"
  },
  "language_info": {
   "codemirror_mode": {
    "name": "ipython",
    "version": 3
   },
   "file_extension": ".py",
   "mimetype": "text/x-python",
   "name": "python",
   "nbconvert_exporter": "python",
   "pygments_lexer": "ipython3",
   "version": "3.10.9"
  }
 },
 "nbformat": 4,
 "nbformat_minor": 5
}
