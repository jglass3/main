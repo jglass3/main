{
 "cells": [
  {
   "cell_type": "markdown",
   "metadata": {},
   "source": [
    "# k-NN \n",
    "\n",
    "**File:** kNNSolution.ipynb\n",
    "\n",
    "**Course:** Data Science Foundations: Data Mining in Python"
   ]
  },
  {
   "cell_type": "markdown",
   "metadata": {},
   "source": [
    "# IMPORT LIBRARIES"
   ]
  },
  {
   "cell_type": "code",
   "execution_count": 1,
   "metadata": {},
   "outputs": [],
   "source": [
    "import matplotlib.pyplot as plt                      # For plotting data\n",
    "import seaborn as sns                                # For plotting data\n",
    "import pandas as pd                                  # For dataframes\n",
    "from sklearn.model_selection import GridSearchCV     # For parameter optimization\n",
    "from sklearn.neighbors import KNeighborsClassifier   # For kNN classification\n",
    "from sklearn.metrics import plot_confusion_matrix    # Evaluation measure"
   ]
  },
  {
   "cell_type": "markdown",
   "metadata": {},
   "source": [
    "# LOAD AND PREPARE DATA\n",
    "\n",
    "Many of the datasets for this course come from the Machine Learning Repository at the University of California, Irvine (UCI) at [https://archive.ics.uci.edu/](https://archive.ics.uci.edu/).\n",
    "\n",
    "For this challenge, we'll use the \"Breast Cancer Wisconsin (Original) Data Set,\" which can be found at [https://j.mp/2NsaIlc](https://j.mp/2NsaIlc). To save time, I have already prepared the dataset by doing the following:\n",
    "\n",
    "- Removed the variable `Id`.\n",
    "- Renamed the attribute variables to `X0` through `X8`.\n",
    "- Renamed the variable `class` to `y`.\n",
    "- Converted all attribute variables from categorical to numeric.\n",
    "- Dropped cases with missing values.\n",
    "- Split the data into training (70%) and testing (30%) datasets.\n",
    "\n",
    "This makes it possible to directly load the prepared training and testing datasets below."
   ]
  },
  {
   "cell_type": "markdown",
   "metadata": {},
   "source": [
    "## Import Data"
   ]
  },
  {
   "cell_type": "code",
   "execution_count": 2,
   "metadata": {},
   "outputs": [],
   "source": [
    "# Imports the training data\n",
    "trn = pd.read_csv('BreastCancer_trn.csv')\n",
    "\n",
    "# Separates the attributes X0-X8 into X_trn\n",
    "X_trn = trn.filter(regex='\\d')\n",
    "\n",
    "# Separates the class variable into y_trn\n",
    "y_trn = trn.y\n",
    "\n",
    "# Imports the testing data\n",
    "tst = pd.read_csv('BreastCancer_tst.csv')\n",
    "\n",
    "# Separates the attributes X0-X8 into X_tst\n",
    "X_tst = tst.filter(regex='\\d')\n",
    "\n",
    "# Separates the class variable into y_tst\n",
    "y_tst = tst.y\n",
    "\n",
    "# Class labels\n",
    "diagnosis = ['Benign','Malignant']"
   ]
  },
  {
   "cell_type": "markdown",
   "metadata": {},
   "source": [
    "Look at the first few rows of the training data."
   ]
  },
  {
   "cell_type": "code",
   "execution_count": 3,
   "metadata": {},
   "outputs": [
    {
     "data": {
      "text/html": [
       "<div>\n",
       "<style scoped>\n",
       "    .dataframe tbody tr th:only-of-type {\n",
       "        vertical-align: middle;\n",
       "    }\n",
       "\n",
       "    .dataframe tbody tr th {\n",
       "        vertical-align: top;\n",
       "    }\n",
       "\n",
       "    .dataframe thead th {\n",
       "        text-align: right;\n",
       "    }\n",
       "</style>\n",
       "<table border=\"1\" class=\"dataframe\">\n",
       "  <thead>\n",
       "    <tr style=\"text-align: right;\">\n",
       "      <th></th>\n",
       "      <th>X0</th>\n",
       "      <th>X1</th>\n",
       "      <th>X2</th>\n",
       "      <th>X3</th>\n",
       "      <th>X4</th>\n",
       "      <th>X5</th>\n",
       "      <th>X6</th>\n",
       "      <th>X7</th>\n",
       "      <th>X8</th>\n",
       "      <th>y</th>\n",
       "    </tr>\n",
       "  </thead>\n",
       "  <tbody>\n",
       "    <tr>\n",
       "      <th>0</th>\n",
       "      <td>3</td>\n",
       "      <td>1</td>\n",
       "      <td>1</td>\n",
       "      <td>1</td>\n",
       "      <td>3</td>\n",
       "      <td>2</td>\n",
       "      <td>1</td>\n",
       "      <td>1</td>\n",
       "      <td>1</td>\n",
       "      <td>benign</td>\n",
       "    </tr>\n",
       "    <tr>\n",
       "      <th>1</th>\n",
       "      <td>5</td>\n",
       "      <td>1</td>\n",
       "      <td>3</td>\n",
       "      <td>1</td>\n",
       "      <td>2</td>\n",
       "      <td>1</td>\n",
       "      <td>2</td>\n",
       "      <td>1</td>\n",
       "      <td>1</td>\n",
       "      <td>benign</td>\n",
       "    </tr>\n",
       "    <tr>\n",
       "      <th>2</th>\n",
       "      <td>7</td>\n",
       "      <td>5</td>\n",
       "      <td>6</td>\n",
       "      <td>10</td>\n",
       "      <td>4</td>\n",
       "      <td>10</td>\n",
       "      <td>5</td>\n",
       "      <td>3</td>\n",
       "      <td>1</td>\n",
       "      <td>malignant</td>\n",
       "    </tr>\n",
       "    <tr>\n",
       "      <th>3</th>\n",
       "      <td>1</td>\n",
       "      <td>1</td>\n",
       "      <td>1</td>\n",
       "      <td>3</td>\n",
       "      <td>1</td>\n",
       "      <td>3</td>\n",
       "      <td>1</td>\n",
       "      <td>1</td>\n",
       "      <td>1</td>\n",
       "      <td>benign</td>\n",
       "    </tr>\n",
       "    <tr>\n",
       "      <th>4</th>\n",
       "      <td>2</td>\n",
       "      <td>1</td>\n",
       "      <td>1</td>\n",
       "      <td>1</td>\n",
       "      <td>3</td>\n",
       "      <td>1</td>\n",
       "      <td>2</td>\n",
       "      <td>1</td>\n",
       "      <td>1</td>\n",
       "      <td>benign</td>\n",
       "    </tr>\n",
       "  </tbody>\n",
       "</table>\n",
       "</div>"
      ],
      "text/plain": [
       "   X0  X1  X2  X3  X4  X5  X6  X7  X8          y\n",
       "0   3   1   1   1   3   2   1   1   1     benign\n",
       "1   5   1   3   1   2   1   2   1   1     benign\n",
       "2   7   5   6  10   4  10   5   3   1  malignant\n",
       "3   1   1   1   3   1   3   1   1   1     benign\n",
       "4   2   1   1   1   3   1   2   1   1     benign"
      ]
     },
     "execution_count": 3,
     "metadata": {},
     "output_type": "execute_result"
    }
   ],
   "source": [
    "trn.head()"
   ]
  },
  {
   "cell_type": "markdown",
   "metadata": {},
   "source": [
    "# kNN: TRAIN MODEL\n",
    "To train a kNN model, set up a `KNeighborsClassifier` object and fit it to training data."
   ]
  },
  {
   "cell_type": "code",
   "execution_count": 4,
   "metadata": {},
   "outputs": [],
   "source": [
    "# Sets up a kNN model and fits it to data\n",
    "knn = KNeighborsClassifier(n_neighbors=5) \\\n",
    "    .fit(X_trn, y_trn)"
   ]
  },
  {
   "cell_type": "markdown",
   "metadata": {},
   "source": [
    "## Calculate Mean Accuracy on Training Data"
   ]
  },
  {
   "cell_type": "code",
   "execution_count": 5,
   "metadata": {},
   "outputs": [
    {
     "name": "stdout",
     "output_type": "stream",
     "text": [
      "Accuracy on training data: 97.91%\n"
     ]
    }
   ],
   "source": [
    "print(\n",
    "    'Accuracy on training data: ' \n",
    "    + str(\"{:.2%}\".format(knn.score(X_trn, y_trn))))"
   ]
  },
  {
   "cell_type": "markdown",
   "metadata": {},
   "source": [
    "## Optimize the kNN Model\n",
    "The challenge in training a kNN model is to determine the optimal number of neighbors. To find the optimal parameters, `GridSearchCV` object can be used."
   ]
  },
  {
   "cell_type": "code",
   "execution_count": 6,
   "metadata": {},
   "outputs": [
    {
     "data": {
      "text/plain": [
       "{'algorithm': 'auto',\n",
       " 'leaf_size': 30,\n",
       " 'metric': 'minkowski',\n",
       " 'metric_params': None,\n",
       " 'n_jobs': None,\n",
       " 'n_neighbors': 13,\n",
       " 'p': 2,\n",
       " 'weights': 'uniform'}"
      ]
     },
     "execution_count": 6,
     "metadata": {},
     "output_type": "execute_result"
    }
   ],
   "source": [
    "# Sets up the kNN classifier object\n",
    "knn = KNeighborsClassifier() \n",
    "\n",
    "# Search parameters\n",
    "param = range(3, 15, 2)\n",
    "\n",
    "# Sets up GridSearchCV object and stores it in grid variable\n",
    "grid = GridSearchCV(\n",
    "    knn,\n",
    "    {'n_neighbors': param})\n",
    "\n",
    "# Fits the grid object and gets the best model\n",
    "best_knn = grid \\\n",
    "    .fit(X_trn,y_trn) \\\n",
    "    .best_estimator_\n",
    "\n",
    "# Displays the optimum model\n",
    "best_knn.get_params()"
   ]
  },
  {
   "cell_type": "markdown",
   "metadata": {},
   "source": [
    "## Plot the Accuracy for Various Parameters\n",
    "Once the optimal parameters are found, the accuracy for different parameters can be compared by plotting. The `grid` variable has an attribute `cv_results_`, which is a dictionary of key value pairs and stores the cross validation accuracy for each parameter."
   ]
  },
  {
   "cell_type": "code",
   "execution_count": 7,
   "metadata": {},
   "outputs": [
    {
     "data": {
      "text/plain": [
       "<matplotlib.lines.Line2D at 0x22a486964f0>"
      ]
     },
     "execution_count": 7,
     "metadata": {},
     "output_type": "execute_result"
    },
    {
     "data": {
      "image/png": "[encoded data removed]",
      "text/plain": [
       "<Figure size 432x288 with 1 Axes>"
      ]
     },
     "metadata": {
      "needs_background": "light"
     },
     "output_type": "display_data"
    }
   ],
   "source": [
    "# Plots mean_test_scores vs. total neighbors\n",
    "plt.plot(\n",
    "    param,\n",
    "    grid.cv_results_['mean_test_score'])\n",
    "\n",
    "# Adds labels to the plot\n",
    "plt.xticks(param)\n",
    "plt.ylabel('Mean CV Score')\n",
    "plt.xlabel('n_neighbors')\n",
    "\n",
    "# Draws a vertical line where the best model is\n",
    "plt.axvline(\n",
    "    x=best_knn.n_neighbors, \n",
    "    color='red', \n",
    "    ls='--')"
   ]
  },
  {
   "cell_type": "markdown",
   "metadata": {},
   "source": [
    "# TEST MODEL\n",
    "In this phase, we'll evaluate the accuracy of the trained kNN model on the test set. A good evaluation measure is the `confusion matrix` that gives the fraction of true positives, true negatives, false positives, and false negatives.\n",
    "\n",
    "## Visualize the Confusion Matrix\n",
    "\n",
    "Normalize the scores to display as proportions across rows."
   ]
  },
  {
   "cell_type": "code",
   "execution_count": 8,
   "metadata": {},
   "outputs": [
    {
     "data": {
      "text/plain": [
       "<sklearn.metrics._plot.confusion_matrix.ConfusionMatrixDisplay at 0x22a486ea1c0>"
      ]
     },
     "execution_count": 8,
     "metadata": {},
     "output_type": "execute_result"
    },
    {
     "data": {
      "image/png": "[encoded data removed]",
      "text/plain": [
       "<Figure size 432x288 with 2 Axes>"
      ]
     },
     "metadata": {
      "needs_background": "light"
     },
     "output_type": "display_data"
    }
   ],
   "source": [
    "plot_confusion_matrix(\n",
    "    best_knn, X_tst, y_tst,\n",
    "    display_labels=diagnosis,\n",
    "    normalize='true')"
   ]
  },
  {
   "cell_type": "markdown",
   "metadata": {},
   "source": [
    "## Calculate Mean Accuracy on Testing Data"
   ]
  },
  {
   "cell_type": "code",
   "execution_count": 9,
   "metadata": {},
   "outputs": [
    {
     "name": "stdout",
     "output_type": "stream",
     "text": [
      "Accuracy on testing data: 96.10%\n"
     ]
    }
   ],
   "source": [
    "print(\n",
    "    'Accuracy on testing data: ' \n",
    "    + str(\"{:.2%}\".format(best_knn.score(X_tst, y_tst))))"
   ]
  }
 ],
 "metadata": {
  "kernelspec": {
   "display_name": "Python 3 (ipykernel)",
   "language": "python",
   "name": "python3"
  },
  "language_info": {
   "codemirror_mode": {
    "name": "ipython",
    "version": 3
   },
   "file_extension": ".py",
   "mimetype": "text/x-python",
   "name": "python",
   "nbconvert_exporter": "python",
   "pygments_lexer": "ipython3",
   "version": "3.10.9"
  }
 },
 "nbformat": 4,
 "nbformat_minor": 4
}
