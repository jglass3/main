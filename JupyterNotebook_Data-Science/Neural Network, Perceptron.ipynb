{
 "cells": [
  {
   "cell_type": "markdown",
   "metadata": {},
   "source": [
    "## A neural network with a Perceptron"
   ]
  },
  {
   "cell_type": "code",
   "execution_count": 3,
   "metadata": {},
   "outputs": [],
   "source": [
    "#Perceptron - neural network with just one layer. \n",
    "    #Algo is called linear binary classifier\n",
    "#Linear separability - data is cleanly classified into two classes\n",
    "#Data must be lnear separable in order for a perception to operate\n",
    "#Perceptron has 4 elements\n",
    "    #Input layer -\n",
    "    #Weights and bias - \n",
    "    #Weighted sum - \n",
    "    #Activiation function -\n",
    "#Example of single layer neural network\n",
    "#input layer --> weight sum + bias --> Activation function --> Output value (y)\n",
    "#Activation function - math function that is deployed on each unit in a neural network\n",
    "    #Type of activation functions\n",
    "    #1. Liner activation - single layer perceptron 2. Logistic sigmoid - often used in the final\n",
    "    #output layer, useful w/ binary input features 3. Threshold function - used w/ binary features\n",
    "    #4. ReLU - Rectified linear unit 5. Softmax    \n",
    "\n",
    "#Linear Activaiton Function \n",
    "import numpy as np\n",
    "import pandas as pd\n",
    "import sklearn\n",
    "\n",
    "from pandas import Series, DataFrame\n",
    "from sklearn import datasets\n",
    "from sklearn.preprocessing import StandardScaler\n",
    "from sklearn.model_selection import train_test_split\n",
    "from sklearn.metrics import confusion_matrix, classification_report"
   ]
  },
  {
   "cell_type": "code",
   "execution_count": 4,
   "metadata": {},
   "outputs": [],
   "source": [
    "#imported perceptron\n",
    "from sklearn.linear_model import Perceptron"
   ]
  },
  {
   "cell_type": "code",
   "execution_count": 5,
   "metadata": {},
   "outputs": [
    {
     "data": {
      "text/plain": [
       "array([[5.1, 3.5, 1.4, 0.2],\n",
       "       [4.9, 3. , 1.4, 0.2],\n",
       "       [4.7, 3.2, 1.3, 0.2],\n",
       "       [4.6, 3.1, 1.5, 0.2],\n",
       "       [5. , 3.6, 1.4, 0.2],\n",
       "       [5.4, 3.9, 1.7, 0.4],\n",
       "       [4.6, 3.4, 1.4, 0.3],\n",
       "       [5. , 3.4, 1.5, 0.2],\n",
       "       [4.4, 2.9, 1.4, 0.2],\n",
       "       [4.9, 3.1, 1.5, 0.1]])"
      ]
     },
     "execution_count": 5,
     "metadata": {},
     "output_type": "execute_result"
    }
   ],
   "source": [
    "iris = datasets.load_iris()\n",
    "\n",
    "X = iris.data\n",
    "y = iris.target\n",
    "\n",
    "X[0:10,]"
   ]
  },
  {
   "cell_type": "code",
   "execution_count": 6,
   "metadata": {},
   "outputs": [],
   "source": [
    "#80/20 split test 20% vs train\n",
    "X_train, X_test, y_train, y_test = train_test_split(X, y, test_size=0.2)"
   ]
  },
  {
   "cell_type": "code",
   "execution_count": 7,
   "metadata": {},
   "outputs": [],
   "source": [
    "#nomalize data\n",
    "standardize = StandardScaler()\n",
    "\n",
    "standardized_X_test = standardize.fit_transform(X_test)\n",
    "\n",
    "standardized_X_train = standardize.fit_transform(X_train)"
   ]
  },
  {
   "cell_type": "code",
   "execution_count": 8,
   "metadata": {},
   "outputs": [
    {
     "data": {
      "text/plain": [
       "array([[ 0.25491318, -0.54344897,  0.43157675,  0.47066431],\n",
       "       [-1.34857295,  0.31462835, -1.38558852, -1.34675235],\n",
       "       [ 0.62494844, -1.11550053,  0.65872241,  0.89006816],\n",
       "       [ 0.13156809,  0.31462835,  0.60193599,  0.89006816],\n",
       "       [-1.22522786,  0.02860258, -1.21522927, -1.34675235],\n",
       "       [-0.97853769,  0.88667991, -1.27201569, -1.34675235],\n",
       "       [ 2.35177965, -1.4015263 ,  1.7944507 ,  1.58907457],\n",
       "       [-0.73184751,  1.17270568, -1.27201569, -1.34675235],\n",
       "       [ 0.00822301, -1.11550053,  0.77229524,  1.02986944],\n",
       "       [ 0.87163861, -0.2574232 ,  0.82908165,  1.16967072]])"
      ]
     },
     "execution_count": 8,
     "metadata": {},
     "output_type": "execute_result"
    }
   ],
   "source": [
    "standardized_X_test[0:10,]"
   ]
  },
  {
   "cell_type": "code",
   "execution_count": 9,
   "metadata": {},
   "outputs": [
    {
     "data": {
      "text/plain": [
       "Perceptron(alpha=0.0001, class_weight=None, early_stopping=False, eta0=0.15,\n",
       "           fit_intercept=True, max_iter=50, n_iter_no_change=5, n_jobs=None,\n",
       "           penalty=None, random_state=15, shuffle=True, tol=0.001,\n",
       "           validation_fraction=0.1, verbose=0, warm_start=False)"
      ]
     },
     "execution_count": 9,
     "metadata": {},
     "output_type": "execute_result"
    }
   ],
   "source": [
    "#creating perceptron\n",
    "#setup model parameters to pass over data minimum 50 times\n",
    "#set learning rate to .15\n",
    "#don't need random state\n",
    "perceptron = Perceptron(max_iter=50, eta0=0.15, tol=1e-3, random_state=15)\n",
    "\n",
    "perceptron.fit(standardized_X_train, y_train.ravel())"
   ]
  },
  {
   "cell_type": "code",
   "execution_count": 10,
   "metadata": {},
   "outputs": [],
   "source": [
    "#Making prediction on test data\n",
    "y_pred = perceptron.predict(standardized_X_test)"
   ]
  },
  {
   "cell_type": "code",
   "execution_count": 11,
   "metadata": {},
   "outputs": [
    {
     "name": "stdout",
     "output_type": "stream",
     "text": [
      "[1 0 2 1 0 0 2 0 2 2 1 0 0 2 2 0 1 1 0 2 1 0 2 1 1 1 1 1 1 0]\n"
     ]
    }
   ],
   "source": [
    "#test data\n",
    "print(y_test)"
   ]
  },
  {
   "cell_type": "code",
   "execution_count": 12,
   "metadata": {},
   "outputs": [
    {
     "name": "stdout",
     "output_type": "stream",
     "text": [
      "[2 0 2 2 0 0 2 0 2 2 0 0 0 2 2 0 0 2 0 2 1 0 2 1 1 0 0 0 1 0]\n"
     ]
    }
   ],
   "source": [
    "#prediction using test data\n",
    "#results are similar from above, change parameters in model to get better accuracy\n",
    "print(y_pred)"
   ]
  },
  {
   "cell_type": "code",
   "execution_count": 14,
   "metadata": {},
   "outputs": [
    {
     "name": "stdout",
     "output_type": "stream",
     "text": [
      "              precision    recall  f1-score   support\n",
      "\n",
      "           0       0.67      1.00      0.80        10\n",
      "           1       1.00      0.33      0.50        12\n",
      "           2       0.73      1.00      0.84         8\n",
      "\n",
      "    accuracy                           0.73        30\n",
      "   macro avg       0.80      0.78      0.71        30\n",
      "weighted avg       0.82      0.73      0.69        30\n",
      "\n"
     ]
    }
   ],
   "source": [
    "#run class report to check models accuracy predictions\n",
    "print(classification_report(y_test, y_pred))\n",
    "#Results: Use precision and recall to base accuracy "
   ]
  },
  {
   "cell_type": "code",
   "execution_count": null,
   "metadata": {},
   "outputs": [],
   "source": []
  }
 ],
 "metadata": {
  "kernelspec": {
   "display_name": "Python 3 (ipykernel)",
   "language": "python",
   "name": "python3"
  },
  "language_info": {
   "codemirror_mode": {
    "name": "ipython",
    "version": 3
   },
   "file_extension": ".py",
   "mimetype": "text/x-python",
   "name": "python",
   "nbconvert_exporter": "python",
   "pygments_lexer": "ipython3",
   "version": "3.10.9"
  }
 },
 "nbformat": 4,
 "nbformat_minor": 2
}
